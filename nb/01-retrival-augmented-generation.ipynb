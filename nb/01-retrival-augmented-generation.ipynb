{
 "cells": [
  {
   "cell_type": "markdown",
   "metadata": {},
   "source": [
    "## Environment Setup"
   ]
  },
  {
   "cell_type": "code",
   "execution_count": 103,
   "metadata": {},
   "outputs": [
    {
     "data": {
      "text/plain": [
       "True"
      ]
     },
     "execution_count": 103,
     "metadata": {},
     "output_type": "execute_result"
    }
   ],
   "source": [
    "#imports\n",
    "from dotenv import load_dotenv\n",
    "from langchain_openai import OpenAI\n",
    "from langchain_community.document_loaders import PyPDFLoader\n",
    "from langchain.text_splitter import RecursiveCharacterTextSplitter\n",
    "from langchain_openai.embeddings import OpenAIEmbeddings\n",
    "from langchain_community.vectorstores import Chroma\n",
    "from langchain_community.vectorstores import DocArrayInMemorySearch\n",
    "from langchain_core.output_parsers import StrOutputParser\n",
    "from langchain_core.prompts import ChatPromptTemplate\n",
    "from langchain_core.runnables import RunnableParallel, RunnablePassthrough\n",
    "from langchain_openai.chat_models import ChatOpenAI\n",
    "from langchain_community.document_loaders import BSHTMLLoader\n",
    "\n",
    "\n",
    "import os\n",
    "\n",
    "\n",
    "#Load env variables\n",
    "load_dotenv()"
   ]
  },
  {
   "cell_type": "code",
   "execution_count": 104,
   "metadata": {},
   "outputs": [],
   "source": [
    "#get the OpenAi Api key\n",
    "open_ai_api_key = os.environ.get('OPEN_AI_KEY')"
   ]
  },
  {
   "cell_type": "markdown",
   "metadata": {},
   "source": [
    "## Retrieval Augmented Generation (RAG)"
   ]
  },
  {
   "cell_type": "markdown",
   "metadata": {},
   "source": [
    "### Read Resume.pdf File"
   ]
  },
  {
   "cell_type": "code",
   "execution_count": 105,
   "metadata": {},
   "outputs": [],
   "source": [
    "#Read Doc func\n",
    "def read_doc(file):\n",
    "    file_loader = PyPDFLoader(file)\n",
    "    documents = file_loader.load()\n",
    "    return documents"
   ]
  },
  {
   "cell_type": "code",
   "execution_count": 106,
   "metadata": {},
   "outputs": [],
   "source": [
    "# divide document into chunks\n",
    "\n",
    "def chunk_data(docs, chunk_size=800, chunk_overlap=50):\n",
    "    text_splitter = RecursiveCharacterTextSplitter(chunk_size=chunk_size, chunk_overlap=chunk_overlap)\n",
    "    doc = text_splitter.split_documents(docs)\n",
    "    return doc"
   ]
  },
  {
   "cell_type": "code",
   "execution_count": 107,
   "metadata": {},
   "outputs": [
    {
     "data": {
      "text/plain": [
       "OpenAIEmbeddings(client=<openai.resources.embeddings.Embeddings object at 0x123185400>, async_client=<openai.resources.embeddings.AsyncEmbeddings object at 0x12312dbb0>, model='text-embedding-ada-002', dimensions=None, deployment='text-embedding-ada-002', openai_api_version='', openai_api_base=None, openai_api_type='', openai_proxy='', embedding_ctx_length=8191, openai_api_key=SecretStr('**********'), openai_organization=None, allowed_special=set(), disallowed_special='all', chunk_size=1000, max_retries=2, request_timeout=None, headers=None, tiktoken_enabled=True, tiktoken_model_name=None, show_progress_bar=False, model_kwargs={}, skip_empty=False, default_headers=None, default_query=None, retry_min_seconds=4, retry_max_seconds=20, http_client=None)"
      ]
     },
     "execution_count": 107,
     "metadata": {},
     "output_type": "execute_result"
    }
   ],
   "source": [
    "#create open_ai embeddings\n",
    "embeddings = OpenAIEmbeddings(api_key=open_ai_api_key)\n",
    "embeddings"
   ]
  },
  {
   "cell_type": "markdown",
   "metadata": {},
   "source": [
    "### Import Resume"
   ]
  },
  {
   "cell_type": "code",
   "execution_count": 108,
   "metadata": {},
   "outputs": [],
   "source": [
    "#Load the resume.pdf with the pdf loader\n",
    "resume_doc = read_doc('Zaaheda_Resume_19_02_24.pdf')"
   ]
  },
  {
   "cell_type": "code",
   "execution_count": 109,
   "metadata": {},
   "outputs": [],
   "source": [
    "#chunk the resume \n",
    "resume_doc_chunked = chunk_data(docs=resume_doc)"
   ]
  },
  {
   "cell_type": "code",
   "execution_count": 110,
   "metadata": {},
   "outputs": [],
   "source": [
    "#Store the Embeddings for the resume content in a Vector Store\n",
    "db_resume = Chroma.from_documents(resume_doc_chunked, embeddings)"
   ]
  },
  {
   "cell_type": "markdown",
   "metadata": {},
   "source": [
    "### Import the Job Description\n",
    "For now Job Description is in a pdf. Aim to integrate other formats such as web loader (scarpping job description from a website)"
   ]
  },
  {
   "cell_type": "code",
   "execution_count": 112,
   "metadata": {},
   "outputs": [
    {
     "data": {
      "text/plain": [
       "[Document(page_content=' \\n \\n  Sample Job Description \\n \\n \\n \\n Job Title:  \\n    Human Resources Assistant  \\n \\nJob Description:  This position reports to the Human Resources (HR) director and \\ninterfaces with company managers and HR staff. Company XYZ is \\ncommitted to an employee -orientated, hig h performance culture that \\nemphasizes empowerment, quality, continuous improvement, and the recruitment and ongoing development of a superior workforce.  \\n \\nThe intern will gain exposure  \\nto these functional areas:   HR Information Systems ; Employee relations ; Training and development;  \\n  Benefits ; Compensation; Organization development ; Employment  \\n \\n \\nSpecific responsibilities:   -      Employee orientation and training logistics and recordkeeping  \\n- Company -wide committee facilitation and participation  \\n- Employee safety, welfare, wellness and health reporting  \\n- Provide direct support to employees during implementation of HR  \\nservices, policies and programs  \\n \\n \\nWhat skills will the  \\nintern learn:  -      Active participation in strategic planning process, including    \\n                                                                 developing goals, objectives and processes  \\n- How to engage professionally in HR meetings and seminars with \\nother HR professionals in the region  \\n- Gain experience with Human Resources Information system  (HRIS) \\ndatabas e management and record keeping  \\n- Application of HR law and compliance with governmental regulations  \\n \\n \\n \\nQualifications :   -      Proficient with Microsoft Word and Excel  \\n- General knowledge of employment law and practices  \\n- Able to maintain a high level of confidentiality  \\n- Effective oral and written management communication skills  \\n', metadata={'source': 'sample-job-description.pdf', 'page': 0})]"
      ]
     },
     "execution_count": 112,
     "metadata": {},
     "output_type": "execute_result"
    }
   ],
   "source": [
    "job_description_doc=read_doc('sample-job-description.pdf')\n",
    "job_description_doc"
   ]
  },
  {
   "cell_type": "code",
   "execution_count": 113,
   "metadata": {},
   "outputs": [
    {
     "data": {
      "text/plain": [
       "3"
      ]
     },
     "execution_count": 113,
     "metadata": {},
     "output_type": "execute_result"
    }
   ],
   "source": [
    "job_description_doc_chunked = chunk_data(docs=job_description_doc)\n",
    "len(job_description_doc_chunked)"
   ]
  },
  {
   "cell_type": "code",
   "execution_count": 114,
   "metadata": {},
   "outputs": [],
   "source": [
    "db_job_description = Chroma.from_documents(job_description_doc_chunked,embeddings)"
   ]
  },
  {
   "cell_type": "markdown",
   "metadata": {},
   "source": [
    "## Feed all this data to LLM using LCEL to create resume based on Job Description"
   ]
  },
  {
   "cell_type": "code",
   "execution_count": 115,
   "metadata": {},
   "outputs": [
    {
     "data": {
      "text/plain": [
       "\"Zaaheda's resume showcases expertise in various technical skills such as Python, Java, JavaScript, SQL, Databricks, Azure, Apache Spark, LangChain, Flask, AWS, git/GitHub, Azure DevOps, and more. Additionally, Zaaheda has experience with AI technologies like Genrative AI, Retrieval Augmented Generation, and Vector DB, along with implementing tools like Textract, Comprehend, and Translate.\\n\\nBased on the job description for a Human Resources Assistant at Company XYZ, Zaaheda can highlight her experience in HR Information Systems, Employee relations, Training and development, Benefits, Compensation, Organization development, and Employment. Zaaheda can emphasize her skills in recordkeeping, committee facilitation, and employee orientation and training logistics to align with the specific responsibilities outlined in the job description.\\n\\nBy showcasing her technical skills and experience in AI technologies, Zaaheda can demonstrate her ability to adapt and learn quickly in a dynamic work environment that values continuous improvement and the development of a superior workforce. This tailored resume will help Zaaheda stand out as a strong candidate for the Human Resources Assistant position at Company XYZ.\""
      ]
     },
     "execution_count": 115,
     "metadata": {},
     "output_type": "execute_result"
    }
   ],
   "source": [
    "\n",
    "retriever1 = db_resume.as_retriever()\n",
    "retriever2 = db_job_description.as_retriever()\n",
    "\n",
    "template = \"\"\"Use the resume content from {context1} and the Job Description from {context2} to fullfill the request.\n",
    "\n",
    "Request: {question}\n",
    "\"\"\"\n",
    "prompt = ChatPromptTemplate.from_template(template)\n",
    "model = ChatOpenAI(api_key=open_ai_api_key)\n",
    "output_parser = StrOutputParser()\n",
    "\n",
    "setup_and_retrieval = RunnableParallel(\n",
    "    {\"context1\": retriever1, \"context2\": retriever2, \"question\": RunnablePassthrough()}\n",
    ")\n",
    "chain = setup_and_retrieval | prompt | model | output_parser\n",
    "\n",
    "chain.invoke(\"Rewrite Zaaheda's resume based on the Job Description\")"
   ]
  }
 ],
 "metadata": {
  "kernelspec": {
   "display_name": "Python 3",
   "language": "python",
   "name": "python3"
  },
  "language_info": {
   "codemirror_mode": {
    "name": "ipython",
    "version": 3
   },
   "file_extension": ".py",
   "mimetype": "text/x-python",
   "name": "python",
   "nbconvert_exporter": "python",
   "pygments_lexer": "ipython3",
   "version": "3.12.2"
  }
 },
 "nbformat": 4,
 "nbformat_minor": 2
}
